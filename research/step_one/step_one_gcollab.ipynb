{
  "nbformat": 4,
  "nbformat_minor": 0,
  "metadata": {
    "colab": {
      "provenance": [],
      "collapsed_sections": []
    },
    "kernelspec": {
      "name": "python3",
      "display_name": "Python 3"
    },
    "language_info": {
      "name": "python"
    },
    "accelerator": "GPU",
    "gpuClass": "standard"
  },
  "cells": [
    {
      "cell_type": "code",
      "execution_count": null,
      "metadata": {
        "id": "UBHtbsV2EKBZ"
      },
      "outputs": [],
      "source": [
        "!pip install sockeye subword-nmt"
      ]
    },
    {
      "cell_type": "code",
      "source": [
        "from google.colab import drive\n",
        "drive.mount('/content/drive/')"
      ],
      "metadata": {
        "id": "_kyRTwQLp5vn"
      },
      "execution_count": null,
      "outputs": []
    },
    {
      "cell_type": "code",
      "source": [
        "%cd /content/drive/MyDrive/Boithos/step_one/"
      ],
      "metadata": {
        "id": "PAkSJuYkUZOx"
      },
      "execution_count": null,
      "outputs": []
    },
    {
      "cell_type": "markdown",
      "source": [
        "**How do we use NVIDIA Apex optimizer in Google Collab?**\n",
        "\n",
        "`[WARNING:sockeye.optimizers] Cannot import NVIDIA Apex optimizers (FusedAdam, FusedSGD). Consider installing Apex for faster GPU training: https://github.com/NVIDIA/apex`"
      ],
      "metadata": {
        "id": "s2ipPB7_JWHe"
      }
    },
    {
      "cell_type": "code",
      "source": [
        "# Train the model\n",
        "!python -m sockeye.train --prepared-data train-data --validation-source valid-data/src.txt --validation-target valid-data/tgt.txt --output checkpoints/boithos --shared-vocab --max-num-epochs 3"
      ],
      "metadata": {
        "id": "oRrKpEDhElmu"
      },
      "execution_count": null,
      "outputs": []
    },
    {
      "cell_type": "code",
      "source": [
        "# Score the model\n",
        "# Ignore scoring for now\n",
        "!python -m sockeye.score -m checkpoints/boithos --source test-data/src.gz --target test-data/tgt.gz --output-type pair_with_score >> score.txt"
      ],
      "metadata": {
        "id": "gdHa73ytUWui"
      },
      "execution_count": null,
      "outputs": []
    },
    {
      "cell_type": "code",
      "source": [
        "# Translate\n",
        "!python -m sockeye.translate -m checkpoints/boithos --beam-size 120 --input trans-raw/src.indindags.txt --output trans-res/res.indindags.txt\n",
        "!cp trans-res/res.indindags.txt trans-res/res.indindags.clean.txt\n",
        "!sed -i -r 's/@@( |$)//g' trans-res/res.indindags.clean.txt\n",
        "\n",
        "!python -m sockeye.translate -m checkpoints/boithos --beam-size 120 --input trans-raw/src.bjnbjn.txt --output trans-res/res.bjnbjn.txt\n",
        "!cp trans-res/res.bjnbjn.txt trans-res/res.bjnbjn.clean.txt\n",
        "!sed -i -r 's/@@( |$)//g' trans-res/res.bjnbjn.clean.txt\n",
        "\n",
        "!python -m sockeye.translate -m checkpoints/boithos --beam-size 120 --input trans-raw/src.jvnjvnNT.txt --output trans-res/res.jvnjvnNT.txt\n",
        "!cp trans-res/res.jvnjvnNT.txt trans-res/res.jvnjvnNT.clean.txt\n",
        "!sed -i -r 's/@@( |$)//g' trans-res/res.jvnjvnNT.clean.txt\n",
        "\n",
        "!python -m sockeye.translate -m checkpoints/boithos --beam-size 120 --input trans-raw/src.uryury.txt --output trans-res/res.uryury.txt\n",
        "!cp trans-res/res.uryury.txt trans-res/res.uryury.clean.txt\n",
        "!sed -i -r 's/@@( |$)//g' trans-res/res.uryury.clean.txt"
      ],
      "metadata": {
        "id": "ghy4gUGGTvQb"
      },
      "execution_count": null,
      "outputs": []
    }
  ]
}