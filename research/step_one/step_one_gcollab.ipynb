{
  "nbformat": 4,
  "nbformat_minor": 0,
  "metadata": {
    "colab": {
      "provenance": [],
      "collapsed_sections": []
    },
    "kernelspec": {
      "name": "python3",
      "display_name": "Python 3"
    },
    "language_info": {
      "name": "python"
    },
    "accelerator": "GPU",
    "gpuClass": "standard"
  },
  "cells": [
    {
      "cell_type": "code",
      "execution_count": null,
      "metadata": {
        "id": "UBHtbsV2EKBZ"
      },
      "outputs": [],
      "source": [
        "!pip install sockeye subword-nmt"
      ]
    },
    {
      "cell_type": "code",
      "source": [
        "from google.colab import drive\n",
        "drive.mount('/content/drive/')\n",
        "\n",
        "# Shorter import paths?\n",
        "#%cd /content/drive/MyDrive/Boithos/step_one/"
      ],
      "metadata": {
        "id": "_kyRTwQLp5vn"
      },
      "execution_count": null,
      "outputs": []
    },
    {
      "cell_type": "markdown",
      "source": [
        "**How do we use NVIDIA Apex optimizer in Google Collab?**\n",
        "\n",
        "`[WARNING:sockeye.optimizers] Cannot import NVIDIA Apex optimizers (FusedAdam, FusedSGD). Consider installing Apex for faster GPU training: https://github.com/NVIDIA/apex`"
      ],
      "metadata": {
        "id": "s2ipPB7_JWHe"
      }
    },
    {
      "cell_type": "code",
      "source": [
        "# Train the model\n",
        "!python -m sockeye.train --prepared-data /content/drive/MyDrive/Boithos/step_one/train-data --validation-source /content/drive/MyDrive/Boithos/step_one/valid-data/src.txt --validation-target /content/drive/MyDrive/Boithos/step_one/valid-data/tgt.txt --output /content/drive/MyDrive/Boithos/step_one/checkpoints/boithos --shared-vocab --max-num-epochs 3"
      ],
      "metadata": {
        "id": "oRrKpEDhElmu"
      },
      "execution_count": null,
      "outputs": []
    },
    {
      "cell_type": "code",
      "source": [
        "# Score the model\n",
        "# Ignore scoring for now\n",
        "!python -m sockeye.score -m /content/drive/MyDrive/Boithos/step_one/checkpoints/boithos --source /content/drive/MyDrive/Boithos/step_one/test-data/src.gz --target /content/drive/MyDrive/Boithos/step_one/test-data/tgt.gz --output-type pair_with_score >> /content/drive/MyDrive/Boithos/step_one/score.txt"
      ],
      "metadata": {
        "id": "gdHa73ytUWui"
      },
      "execution_count": null,
      "outputs": []
    },
    {
      "cell_type": "code",
      "source": [
        "# Translate\n",
        "!python -m sockeye.translate -m /content/drive/MyDrive/Boithos/step_one/checkpoints/boithos --beam-size 120 --input /content/drive/MyDrive/Boithos/step_one/trans-raw/src.indindags.txt --output /content/drive/MyDrive/Boithos/step_one/trans-res/res.indindags.txt\n",
        "!cp /content/drive/MyDrive/Boithos/step_one/trans-res/res.indindags.txt /content/drive/MyDrive/Boithos/step_one/trans-res/res.indindags.clean.txt\n",
        "!sed -i -r 's/@@( |$)//g' /content/drive/MyDrive/Boithos/step_one/trans-res/res.indindags.clean.txt\n",
        "\n",
        "!python -m sockeye.translate -m /content/drive/MyDrive/Boithos/step_one/checkpoints/boithos --beam-size 120 --input /content/drive/MyDrive/Boithos/step_one/trans-raw/src.bjnbjn.txt --output /content/drive/MyDrive/Boithos/step_one/trans-res/res.bjnbjn.txt\n",
        "!cp /content/drive/MyDrive/Boithos/step_one/trans-res/res.bjnbjn.txt /content/drive/MyDrive/Boithos/step_one/trans-res/res.bjnbjn.clean.txt\n",
        "!sed -i -r 's/@@( |$)//g' /content/drive/MyDrive/Boithos/step_one/trans-res/res.bjnbjn.clean.txt"
      ],
      "metadata": {
        "id": "ghy4gUGGTvQb"
      },
      "execution_count": null,
      "outputs": []
    }
  ]
}